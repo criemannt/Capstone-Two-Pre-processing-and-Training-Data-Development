{
 "cells": [
  {
   "cell_type": "markdown",
   "id": "65fbd664",
   "metadata": {},
   "source": [
    "# Pre-processing and Training\n",
    "in this project I'm completing step 4 of my capstone project where I need to:\n",
    "\n",
    "Create dummy or indicator features for categorical variables\n",
    "\n",
    "Standardize the magnitude of numeric features using a scaler\n",
    "\n",
    "Split your data into testing and training datasets\n"
   ]
  },
  {
   "cell_type": "code",
   "execution_count": 9,
   "id": "9d992ead",
   "metadata": {},
   "outputs": [],
   "source": [
    "import pandas as pd\n",
    "import numpy as np\n",
    "import seaborn as sns\n",
    "import matplotlib.pyplot as plt\n",
    "from sklearn.model_selection import train_test_split\n",
    "from sklearn.preprocessing import StandardScaler\n",
    "from sklearn.linear_model import LinearRegression\n",
    "from sklearn.metrics import mean_squared_error, r2_score\n",
    "import warnings\n",
    "warnings.simplefilter(action='ignore', category=FutureWarning)\n",
    "warnings.simplefilter(action='ignore', category=UserWarning)"
   ]
  },
  {
   "cell_type": "code",
   "execution_count": 3,
   "id": "a530bedd",
   "metadata": {},
   "outputs": [],
   "source": [
    "df = pd.read_excel(r'/Users/carlriemann/Documents/GitHub/Capstone-Two-EDA/DataWrangling2.0.xlsx')"
   ]
  },
  {
   "cell_type": "code",
   "execution_count": 4,
   "id": "2bbb6992",
   "metadata": {},
   "outputs": [
    {
     "data": {
      "text/plain": [
       "(272, 87)"
      ]
     },
     "execution_count": 4,
     "metadata": {},
     "output_type": "execute_result"
    }
   ],
   "source": [
    "df.shape"
   ]
  },
  {
   "cell_type": "code",
   "execution_count": 5,
   "id": "37f6caa8",
   "metadata": {},
   "outputs": [
    {
     "name": "stdout",
     "output_type": "stream",
     "text": [
      "Index(['Player', 'Age', 'Age_last_year', 'Age_year_before_last', 'G',\n",
      "       'G_last_year', 'G_year_before_last', 'GS', 'GS_last_year',\n",
      "       'GS_year_before_last', 'MP', 'MP_last_year', 'MP_year_before_last',\n",
      "       'FG', 'FG_last_year', 'FG_year_before_last', 'FGA', 'FGA_last_year',\n",
      "       'FGA_year_before_last', 'FG%', 'FG%_last_year', 'FG%_year_before_last',\n",
      "       '3P', '3P_last_year', '3P_year_before_last', '3PA', '3PA_last_year',\n",
      "       '3PA_year_before_last', '3P%', '3P%_last_year', '3P%_year_before_last',\n",
      "       '2P', '2P_last_year', '2P_year_before_last', '2PA', '2PA_last_year',\n",
      "       '2PA_year_before_last', '2P%', '2P%_last_year', '2P%_year_before_last',\n",
      "       'eFG%', 'eFG%_last_year', 'eFG%_year_before_last', 'FT', 'FT_last_year',\n",
      "       'FT_year_before_last', 'FTA', 'FTA_last_year', 'FTA_year_before_last',\n",
      "       'FT%', 'FT%_last_year', 'FT%_year_before_last', 'ORB', 'ORB_last_year',\n",
      "       'ORB_year_before_last', 'DRB', 'DRB_last_year', 'DRB_year_before_last',\n",
      "       'TRB', 'TRB_last_year', 'TRB_year_before_last', 'AST', 'AST_last_year',\n",
      "       'AST_year_before_last', 'STL', 'STL_last_year', 'STL_year_before_last',\n",
      "       'BLK', 'BLK_last_year', 'BLK_year_before_last', 'TOV', 'TOV_last_year',\n",
      "       'TOV_year_before_last', 'PF_last_year', 'PF_year_before_last', 'PTS',\n",
      "       'PTS_last_year', 'PTS_year_before_last', 'Points_scored_next_season',\n",
      "       'Tm', 'Season', 'Pos', 'SG', 'SF', 'PG', 'C', 'PF'],\n",
      "      dtype='object')\n"
     ]
    }
   ],
   "source": [
    "print(df.columns)"
   ]
  },
  {
   "cell_type": "code",
   "execution_count": 12,
   "id": "992417b7",
   "metadata": {},
   "outputs": [
    {
     "name": "stdout",
     "output_type": "stream",
     "text": [
      "Categorical Columns: Index(['Player', 'Tm', 'Season', 'Pos'], dtype='object')\n"
     ]
    }
   ],
   "source": [
    "categorical_columns = df.select_dtypes(include=['object', 'category']).columns\n",
    "print(\"Categorical Columns:\", categorical_columns)"
   ]
  },
  {
   "cell_type": "markdown",
   "id": "98dac438",
   "metadata": {},
   "source": [
    "The main goal of this step is to clean, transform, and split the data so that it is ready for training machine learning models."
   ]
  },
  {
   "cell_type": "code",
   "execution_count": 11,
   "id": "6846efc9",
   "metadata": {},
   "outputs": [
    {
     "name": "stdout",
     "output_type": "stream",
     "text": [
      "Mean Squared Error: 14.738602572165302\n",
      "R-squared: 0.7220094528952419\n"
     ]
    }
   ],
   "source": [
    "selected_features = [\n",
    "    'PTS', 'PTS_last_year', 'FG', 'FGA', 'FG_last_year', 'FGA_last_year', \n",
    "    '2PA', '2P', '2PA_last_year', 'FT_last_year', 'FT', 'FTA', \n",
    "    'FTA_last_year', '2P_last_year', 'PTS_year_before_last', 'TOV', \n",
    "    'FT_year_before_last', 'FG_year_before_last', 'TOV_last_year', \n",
    "    'FGA_year_before_last', 'FTA_year_before_last', 'MP', 'AST'\n",
    "]\n",
    "\n",
    "target = 'Points_scored_next_season'\n",
    "\n",
    "X = df[selected_features]\n",
    "y = df[target]\n",
    "X_train, X_test, y_train, y_test = train_test_split(X, y, test_size=0.2, random_state=42)\n",
    "\n",
    "# Initialize the model (Linear Regression as an example)\n",
    "model = LinearRegression()\n",
    "\n",
    "# Train the model\n",
    "model.fit(X_train, y_train)\n",
    "\n",
    "# Make predictions on the test set\n",
    "y_pred = model.predict(X_test)\n",
    "\n",
    "# Evaluate the model\n",
    "mse = mean_squared_error(y_test, y_pred)\n",
    "r2 = r2_score(y_test, y_pred)\n",
    "\n",
    "# Print evaluation results\n",
    "print(f\"Mean Squared Error: {mse}\")\n",
    "print(f\"R-squared: {r2}\")"
   ]
  },
  {
   "cell_type": "code",
   "execution_count": null,
   "id": "395491b3",
   "metadata": {},
   "outputs": [],
   "source": []
  }
 ],
 "metadata": {
  "kernelspec": {
   "display_name": "Python 3 (ipykernel)",
   "language": "python",
   "name": "python3"
  },
  "language_info": {
   "codemirror_mode": {
    "name": "ipython",
    "version": 3
   },
   "file_extension": ".py",
   "mimetype": "text/x-python",
   "name": "python",
   "nbconvert_exporter": "python",
   "pygments_lexer": "ipython3",
   "version": "3.11.7"
  }
 },
 "nbformat": 4,
 "nbformat_minor": 5
}
